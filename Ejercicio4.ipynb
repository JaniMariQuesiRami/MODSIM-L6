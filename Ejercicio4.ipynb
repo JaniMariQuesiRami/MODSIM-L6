{
 "cells": [
  {
   "cell_type": "code",
   "execution_count": 1,
   "metadata": {},
   "outputs": [
    {
     "name": "stdout",
     "output_type": "stream",
     "text": [
      "Solución continua:\n",
      "Unidades sencillas: 37.03703703703707\n",
      "Unidades dobles: 101.85185185185193\n",
      "Unidades triples: 46.29629629629629\n",
      "Unidades cuádruples: 0.0\n",
      "Recaudación total continua: 355555.55555555574\n"
     ]
    }
   ],
   "source": [
    "using JuMP, GLPK\n",
    "\n",
    "# Crear el modelo usando el solver GLPK\n",
    "model_continuo = Model(GLPK.Optimizer)\n",
    "\n",
    "# Definir las variables de decisión como continuas\n",
    "@variable(model_continuo, x1 >= 0)  # Unidades sencillas\n",
    "@variable(model_continuo, x2 >= 0)  # Unidades dobles\n",
    "@variable(model_continuo, x3 >= 0)  # Unidades triples\n",
    "@variable(model_continuo, x4 >= 0)  # Unidades cuádruples\n",
    "\n",
    "# Definir la función objetivo: Maximizar la recaudación de impuestos\n",
    "@objective(model_continuo, Max, 1000 * x1 + 1900 * x2 + 2700 * x3 + 3400 * x4)\n",
    "\n",
    "# Definir las restricciones\n",
    "@constraint(model_continuo, 0.18 * x1 + 0.28 * x2 + 0.40 * x3 + 0.50 * x4 <= 54.1875)  # Restricción de área\n",
    "@constraint(model_continuo, 50000 * x1 + 70000 * x2 + 130000 * x3 + 160000 * x4 <= 15000000)  # Restricción de financiación\n",
    "@constraint(model_continuo, x1 >= 0.20 * (x1 + x2 + x3 + x4))  # Mínimo 20% de unidades sencillas\n",
    "@constraint(model_continuo, x2 >= 0.10 * (x1 + x2 + x3 + x4))  # Mínimo 10% de unidades dobles\n",
    "@constraint(model_continuo, x3 + x4 >= 0.25 * (x1 + x2 + x3 + x4))  # Mínimo 25% de unidades triples y cuádruples\n",
    "\n",
    "# Optimizar el modelo\n",
    "optimize!(model_continuo)\n",
    "\n",
    "# Obtener los resultados con variables continuas\n",
    "println(\"Solución continua:\")\n",
    "println(\"Unidades sencillas: \", value(x1))\n",
    "println(\"Unidades dobles: \", value(x2))\n",
    "println(\"Unidades triples: \", value(x3))\n",
    "println(\"Unidades cuádruples: \", value(x4))\n",
    "println(\"Recaudación total continua: \", objective_value(model_continuo))\n"
   ]
  },
  {
   "cell_type": "code",
   "execution_count": 2,
   "metadata": {},
   "outputs": [
    {
     "name": "stdout",
     "output_type": "stream",
     "text": [
      "Solución con variables enteras:\n",
      "Unidades sencillas: 36.0\n",
      "Unidades dobles: 99.0\n",
      "Unidades triples: 31.0\n",
      "Unidades cuádruples: 14.0\n",
      "Recaudación total con variables enteras: 355400.0\n",
      "Diferencia en la recaudación: 155.55555555573665\n"
     ]
    }
   ],
   "source": [
    "# Crear un nuevo modelo con variables enteras\n",
    "model_entero = Model(GLPK.Optimizer)\n",
    "\n",
    "# Definir las variables de decisión como enteras\n",
    "@variable(model_entero, x1 >= 0, Int)\n",
    "@variable(model_entero, x2 >= 0, Int)\n",
    "@variable(model_entero, x3 >= 0, Int)\n",
    "@variable(model_entero, x4 >= 0, Int)\n",
    "\n",
    "# Definir la misma función objetivo: Maximizar la recaudación de impuestos\n",
    "@objective(model_entero, Max, 1000 * x1 + 1900 * x2 + 2700 * x3 + 3400 * x4)\n",
    "\n",
    "# Definir las mismas restricciones\n",
    "@constraint(model_entero, 0.18 * x1 + 0.28 * x2 + 0.40 * x3 + 0.50 * x4 <= 54.1875)  # Restricción de área\n",
    "@constraint(model_entero, 50000 * x1 + 70000 * x2 + 130000 * x3 + 160000 * x4 <= 15000000)  # Restricción de financiación\n",
    "@constraint(model_entero, x1 >= 0.20 * (x1 + x2 + x3 + x4))  # Mínimo 20% de unidades sencillas\n",
    "@constraint(model_entero, x2 >= 0.10 * (x1 + x2 + x3 + x4))  # Mínimo 10% de unidades dobles\n",
    "@constraint(model_entero, x3 + x4 >= 0.25 * (x1 + x2 + x3 + x4))  # Mínimo 25% de unidades triples y cuádruples\n",
    "\n",
    "# Optimizar el modelo con variables enteras\n",
    "optimize!(model_entero)\n",
    "\n",
    "# Obtener los resultados con variables enteras\n",
    "println(\"Solución con variables enteras:\")\n",
    "println(\"Unidades sencillas: \", value(x1))\n",
    "println(\"Unidades dobles: \", value(x2))\n",
    "println(\"Unidades triples: \", value(x3))\n",
    "println(\"Unidades cuádruples: \", value(x4))\n",
    "println(\"Recaudación total con variables enteras: \", objective_value(model_entero))\n",
    "\n",
    "# Comparar con la solución continua\n",
    "println(\"Diferencia en la recaudación: \", objective_value(model_continuo) - objective_value(model_entero))\n"
   ]
  }
 ],
 "metadata": {
  "kernelspec": {
   "display_name": "Julia 1.10.5",
   "language": "julia",
   "name": "julia-1.10"
  },
  "language_info": {
   "file_extension": ".jl",
   "mimetype": "application/julia",
   "name": "julia",
   "version": "1.10.5"
  }
 },
 "nbformat": 4,
 "nbformat_minor": 2
}
