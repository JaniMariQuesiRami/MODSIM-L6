{
 "cells": [
  {
   "cell_type": "code",
   "execution_count": 1,
   "metadata": {},
   "outputs": [
    {
     "name": "stdout",
     "output_type": "stream",
     "text": [
      "Número de autobuses que comienzan su turno en el intervalo 1 = 4.0\n",
      "Número de autobuses que comienzan su turno en el intervalo 2 = 4.0\n",
      "Número de autobuses que comienzan su turno en el intervalo 3 = 6.0\n",
      "Número de autobuses que comienzan su turno en el intervalo 4 = 8.0\n",
      "Número de autobuses que comienzan su turno en el intervalo 5 = 4.0\n",
      "Número de autobuses que comienzan su turno en el intervalo 6 = 0.0\n",
      "Número total de autobuses en circulación: 26.0\n"
     ]
    }
   ],
   "source": [
    "# Importar las librerías necesarias\n",
    "using JuMP, GLPK\n",
    "\n",
    "# Crear el modelo usando el solver GLPK\n",
    "model = Model(GLPK.Optimizer)\n",
    "\n",
    "# Definir las variables de decisión como continuas\n",
    "@variable(model, x[1:6] >= 0)  # Número de autobuses que comienzan su turno en cada intervalo\n",
    "\n",
    "# Definir la función objetivo: Minimizar el número total de autobuses\n",
    "@objective(model, Min, sum(x[i] for i in 1:6))\n",
    "\n",
    "# Definir las restricciones de demanda en cada intervalo de tiempo\n",
    "@constraint(model, x[1] + x[6] >= 4)  # Intervalo 12:00 AM - 4:00 AM\n",
    "@constraint(model, x[1] + x[2] >= 8)  # Intervalo 4:00 AM - 8:00 AM\n",
    "@constraint(model, x[2] + x[3] >= 10) # Intervalo 8:00 AM - 12:00 PM\n",
    "@constraint(model, x[3] + x[4] >= 7)  # Intervalo 12:00 PM - 4:00 PM\n",
    "@constraint(model, x[4] + x[5] >= 12) # Intervalo 4:00 PM - 8:00 PM\n",
    "@constraint(model, x[5] + x[6] >= 4)  # Intervalo 8:00 PM - 12:00 AM\n",
    "\n",
    "# Optimizar el modelo\n",
    "optimize!(model)\n",
    "\n",
    "# Verificar si se encontró una solución óptima\n",
    "if termination_status(model) == MOI.OPTIMAL\n",
    "    # Obtener los valores óptimos de las variables\n",
    "    distribucion_optima = value.(x)\n",
    "    \n",
    "    # Mostrar los resultados de la distribución óptima\n",
    "    for i in 1:6\n",
    "        println(\"Número de autobuses que comienzan su turno en el intervalo $i = $(distribucion_optima[i])\")\n",
    "    end\n",
    "    \n",
    "    # Calcular el número total de autobuses en circulación\n",
    "    numero_total_autobuses = objective_value(model)\n",
    "    println(\"Número total de autobuses en circulación: $numero_total_autobuses\")\n",
    "else\n",
    "    println(\"No se encontró una solución óptima.\")\n",
    "end\n"
   ]
  }
 ],
 "metadata": {
  "kernelspec": {
   "display_name": "Julia 1.10.5",
   "language": "julia",
   "name": "julia-1.10"
  },
  "language_info": {
   "file_extension": ".jl",
   "mimetype": "application/julia",
   "name": "julia",
   "version": "1.10.5"
  }
 },
 "nbformat": 4,
 "nbformat_minor": 2
}
